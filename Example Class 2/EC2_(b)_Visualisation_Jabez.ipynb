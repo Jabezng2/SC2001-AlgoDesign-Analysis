{
 "cells": [
  {
   "cell_type": "code",
   "execution_count": 10,
   "id": "63936889",
   "metadata": {},
   "outputs": [],
   "source": [
    "# Import Libraries\n",
    "import pandas as pd\n",
    "import seaborn as sb\n",
    "import matplotlib.pyplot as plt"
   ]
  },
  {
   "cell_type": "code",
   "execution_count": 11,
   "id": "209377f8",
   "metadata": {},
   "outputs": [],
   "source": [
    "results = pd.read_csv(\"resultsAdjList.csv\")"
   ]
  },
  {
   "cell_type": "code",
   "execution_count": 12,
   "id": "6827dba7",
   "metadata": {},
   "outputs": [
    {
     "data": {
      "text/html": [
       "<div>\n",
       "<style scoped>\n",
       "    .dataframe tbody tr th:only-of-type {\n",
       "        vertical-align: middle;\n",
       "    }\n",
       "\n",
       "    .dataframe tbody tr th {\n",
       "        vertical-align: top;\n",
       "    }\n",
       "\n",
       "    .dataframe thead th {\n",
       "        text-align: right;\n",
       "    }\n",
       "</style>\n",
       "<table border=\"1\" class=\"dataframe\">\n",
       "  <thead>\n",
       "    <tr style=\"text-align: right;\">\n",
       "      <th></th>\n",
       "      <th>10</th>\n",
       "      <th>100</th>\n",
       "      <th>1K</th>\n",
       "      <th>10K</th>\n",
       "      <th>Case</th>\n",
       "    </tr>\n",
       "  </thead>\n",
       "  <tbody>\n",
       "    <tr>\n",
       "      <th>0</th>\n",
       "      <td>0.000204</td>\n",
       "      <td>0.002618</td>\n",
       "      <td>0.027374</td>\n",
       "      <td>4.120703</td>\n",
       "      <td>Best</td>\n",
       "    </tr>\n",
       "    <tr>\n",
       "      <th>1</th>\n",
       "      <td>0.000216</td>\n",
       "      <td>0.008575</td>\n",
       "      <td>0.073429</td>\n",
       "      <td>129.006013</td>\n",
       "      <td>Average</td>\n",
       "    </tr>\n",
       "    <tr>\n",
       "      <th>2</th>\n",
       "      <td>0.000261</td>\n",
       "      <td>0.009892</td>\n",
       "      <td>0.140736</td>\n",
       "      <td>148.213121</td>\n",
       "      <td>Worst</td>\n",
       "    </tr>\n",
       "  </tbody>\n",
       "</table>\n",
       "</div>"
      ],
      "text/plain": [
       "         10       100        1K         10K     Case\n",
       "0  0.000204  0.002618  0.027374    4.120703     Best\n",
       "1  0.000216  0.008575  0.073429  129.006013  Average\n",
       "2  0.000261  0.009892  0.140736  148.213121    Worst"
      ]
     },
     "execution_count": 12,
     "metadata": {},
     "output_type": "execute_result"
    }
   ],
   "source": [
    "results = results.iloc[: , 1:]\n",
    "results.head()"
   ]
  },
  {
   "cell_type": "code",
   "execution_count": 13,
   "id": "193e26a5",
   "metadata": {},
   "outputs": [
    {
     "data": {
      "text/html": [
       "<div>\n",
       "<style scoped>\n",
       "    .dataframe tbody tr th:only-of-type {\n",
       "        vertical-align: middle;\n",
       "    }\n",
       "\n",
       "    .dataframe tbody tr th {\n",
       "        vertical-align: top;\n",
       "    }\n",
       "\n",
       "    .dataframe thead th {\n",
       "        text-align: right;\n",
       "    }\n",
       "</style>\n",
       "<table border=\"1\" class=\"dataframe\">\n",
       "  <thead>\n",
       "    <tr style=\"text-align: right;\">\n",
       "      <th></th>\n",
       "      <th>Size</th>\n",
       "      <th>Time(s)</th>\n",
       "      <th>Case</th>\n",
       "    </tr>\n",
       "  </thead>\n",
       "  <tbody>\n",
       "    <tr>\n",
       "      <th>0</th>\n",
       "      <td>10</td>\n",
       "      <td>0.000137</td>\n",
       "      <td>Best</td>\n",
       "    </tr>\n",
       "    <tr>\n",
       "      <th>1</th>\n",
       "      <td>10</td>\n",
       "      <td>0.000149</td>\n",
       "      <td>Average</td>\n",
       "    </tr>\n",
       "    <tr>\n",
       "      <th>2</th>\n",
       "      <td>10</td>\n",
       "      <td>0.000199</td>\n",
       "      <td>Worst</td>\n",
       "    </tr>\n",
       "    <tr>\n",
       "      <th>3</th>\n",
       "      <td>100</td>\n",
       "      <td>0.002978</td>\n",
       "      <td>Best</td>\n",
       "    </tr>\n",
       "    <tr>\n",
       "      <th>4</th>\n",
       "      <td>100</td>\n",
       "      <td>0.007498</td>\n",
       "      <td>Average</td>\n",
       "    </tr>\n",
       "  </tbody>\n",
       "</table>\n",
       "</div>"
      ],
      "text/plain": [
       "   Size   Time(s)     Case\n",
       "0    10  0.000137     Best\n",
       "1    10  0.000149  Average\n",
       "2    10  0.000199    Worst\n",
       "3   100  0.002978     Best\n",
       "4   100  0.007498  Average"
      ]
     },
     "execution_count": 13,
     "metadata": {},
     "output_type": "execute_result"
    }
   ],
   "source": [
    "x = [10, 10, 10, 100, 100, 100, 1000, 1000, 1000, 10000, 10000, 10000]\n",
    "y = [0.000137, 0.000149, 0.000199, 0.002978, 0.007498, 0.009043, 0.022638, 0.055210, 0.093623, 3.891321, 87.869584, 111.028096]\n",
    "z = ['Best', 'Average', 'Worst','Best', 'Average', 'Worst','Best', 'Average', 'Worst','Best', 'Average', 'Worst']\n",
    "\n",
    "results = pd.DataFrame({'Size': x, 'Time(s)': y, 'Case': z}, columns=['Size', 'Time(s)', 'Case'])\n",
    "results.head()"
   ]
  },
  {
   "cell_type": "code",
   "execution_count": 14,
   "id": "1d830d95",
   "metadata": {},
   "outputs": [],
   "source": [
    "results_10 = results[results[\"Size\"] == 10]\n",
    "results_100 = results[results[\"Size\"] == 100]\n",
    "results_1k = results[results[\"Size\"] == 1000]\n",
    "results_10k = results[results[\"Size\"] == 10000]"
   ]
  },
  {
   "cell_type": "code",
   "execution_count": 15,
   "id": "2e99d416",
   "metadata": {},
   "outputs": [
    {
     "data": {
      "image/png": "[encoded data removed]",
      "text/plain": [
       "<Figure size 864x504 with 4 Axes>"
      ]
     },
     "metadata": {
      "needs_background": "light"
     },
     "output_type": "display_data"
    }
   ],
   "source": [
    "fig, axs = plt.subplots(2, 2, figsize=(12, 7))\n",
    "\n",
    "\n",
    "axs[0, 0].set_title(\"Graph Size: 10\")\n",
    "axs[0, 1].set_title(\"Graph Size: 100\")\n",
    "axs[1, 0].set_title(\"Graph Size: 1000\")\n",
    "axs[1, 1].set_title(\"Graph Size: 10,000\")\n",
    "\n",
    "\n",
    "sb.barplot(data=results_10, y=\"Time(s)\", x=\"Size\", hue=\"Case\", ax=axs[0, 0])\n",
    "sb.barplot(data=results_100, y=\"Time(s)\", x=\"Size\", hue=\"Case\", ax=axs[0, 1])\n",
    "sb.barplot(data=results_1k, y=\"Time(s)\", x=\"Size\", hue=\"Case\", ax=axs[1, 0])\n",
    "sb.barplot(data=results_10k, y=\"Time(s)\", x=\"Size\", hue=\"Case\", ax=axs[1, 1])\n",
    "\n",
    "plt.tight_layout()"
   ]
  },
  {
   "cell_type": "code",
   "execution_count": 18,
   "id": "096cff1b",
   "metadata": {},
   "outputs": [
    {
     "data": {
      "text/html": [
       "<div>\n",
       "<style scoped>\n",
       "    .dataframe tbody tr th:only-of-type {\n",
       "        vertical-align: middle;\n",
       "    }\n",
       "\n",
       "    .dataframe tbody tr th {\n",
       "        vertical-align: top;\n",
       "    }\n",
       "\n",
       "    .dataframe thead th {\n",
       "        text-align: right;\n",
       "    }\n",
       "</style>\n",
       "<table border=\"1\" class=\"dataframe\">\n",
       "  <thead>\n",
       "    <tr style=\"text-align: right;\">\n",
       "      <th></th>\n",
       "      <th>Size</th>\n",
       "      <th>TC</th>\n",
       "      <th>Case</th>\n",
       "    </tr>\n",
       "  </thead>\n",
       "  <tbody>\n",
       "    <tr>\n",
       "      <th>0</th>\n",
       "      <td>10</td>\n",
       "      <td>6.643856e+01</td>\n",
       "      <td>Best</td>\n",
       "    </tr>\n",
       "    <tr>\n",
       "      <th>1</th>\n",
       "      <td>10</td>\n",
       "      <td>1.328771e+02</td>\n",
       "      <td>Average</td>\n",
       "    </tr>\n",
       "    <tr>\n",
       "      <th>2</th>\n",
       "      <td>10</td>\n",
       "      <td>3.321928e+02</td>\n",
       "      <td>Worst</td>\n",
       "    </tr>\n",
       "    <tr>\n",
       "      <th>3</th>\n",
       "      <td>100</td>\n",
       "      <td>1.328771e+03</td>\n",
       "      <td>Best</td>\n",
       "    </tr>\n",
       "    <tr>\n",
       "      <th>4</th>\n",
       "      <td>100</td>\n",
       "      <td>6.574096e+04</td>\n",
       "      <td>Average</td>\n",
       "    </tr>\n",
       "    <tr>\n",
       "      <th>5</th>\n",
       "      <td>100</td>\n",
       "      <td>6.643856e+04</td>\n",
       "      <td>Worst</td>\n",
       "    </tr>\n",
       "    <tr>\n",
       "      <th>6</th>\n",
       "      <td>1000</td>\n",
       "      <td>1.993157e+04</td>\n",
       "      <td>Best</td>\n",
       "    </tr>\n",
       "    <tr>\n",
       "      <th>7</th>\n",
       "      <td>1000</td>\n",
       "      <td>1.671013e+06</td>\n",
       "      <td>Average</td>\n",
       "    </tr>\n",
       "    <tr>\n",
       "      <th>8</th>\n",
       "      <td>1000</td>\n",
       "      <td>9.965784e+06</td>\n",
       "      <td>Worst</td>\n",
       "    </tr>\n",
       "    <tr>\n",
       "      <th>9</th>\n",
       "      <td>10000</td>\n",
       "      <td>2.657542e+05</td>\n",
       "      <td>Best</td>\n",
       "    </tr>\n",
       "    <tr>\n",
       "      <th>10</th>\n",
       "      <td>10000</td>\n",
       "      <td>1.216188e+09</td>\n",
       "      <td>Average</td>\n",
       "    </tr>\n",
       "    <tr>\n",
       "      <th>11</th>\n",
       "      <td>10000</td>\n",
       "      <td>1.328771e+09</td>\n",
       "      <td>Worst</td>\n",
       "    </tr>\n",
       "  </tbody>\n",
       "</table>\n",
       "</div>"
      ],
      "text/plain": [
       "     Size            TC     Case\n",
       "0      10  6.643856e+01     Best\n",
       "1      10  1.328771e+02  Average\n",
       "2      10  3.321928e+02    Worst\n",
       "3     100  1.328771e+03     Best\n",
       "4     100  6.574096e+04  Average\n",
       "5     100  6.643856e+04    Worst\n",
       "6    1000  1.993157e+04     Best\n",
       "7    1000  1.671013e+06  Average\n",
       "8    1000  9.965784e+06    Worst\n",
       "9   10000  2.657542e+05     Best\n",
       "10  10000  1.216188e+09  Average\n",
       "11  10000  1.328771e+09    Worst"
      ]
     },
     "execution_count": 18,
     "metadata": {},
     "output_type": "execute_result"
    }
   ],
   "source": [
    "# Time Complexity For Adj List With Elog2V + Vlog2V\n",
    "x = [10, 10, 10, 100, 100, 100, 1000, 1000, 1000, 10000, 10000, 10000]\n",
    "y = [66.4385619, 132.8771238, 332.1928095,\n",
    "    1328.771238, 65740.957, 66438.5619,\n",
    "    19931.56857, 1671012.88, 9965784.285,\n",
    "    265754.2476, 1216187959, 1328771238]\n",
    "z = ['Best', 'Average', 'Worst','Best', 'Average', 'Worst','Best', 'Average', 'Worst','Best', 'Average', 'Worst']\n",
    "\n",
    "resultsT = pd.DataFrame({'Size': x, 'TC': y, 'Case': z}, columns=['Size', 'TC', 'Case'])\n",
    "resultsT"
   ]
  },
  {
   "cell_type": "code",
   "execution_count": 21,
   "id": "b94dff2b",
   "metadata": {},
   "outputs": [],
   "source": [
    "# Wont plot as TC differences are too large. But trend correlates to that of theoretical analysis where\n",
    "# Time Complexity: |E|log2|V|+|V|log2|V|\n",
    "# Note that the reason for the time difference is due to the edges for the average case being RANDOM\n",
    "# Some of the edges are closer to the worst case, some are closer to best case. "
   ]
  }
 ],
 "metadata": {
  "kernelspec": {
   "display_name": "Python 3 (ipykernel)",
   "language": "python",
   "name": "python3"
  },
  "language_info": {
   "codemirror_mode": {
    "name": "ipython",
    "version": 3
   },
   "file_extension": ".py",
   "mimetype": "text/x-python",
   "name": "python",
   "nbconvert_exporter": "python",
   "pygments_lexer": "ipython3",
   "version": "3.9.7"
  }
 },
 "nbformat": 4,
 "nbformat_minor": 5
}
