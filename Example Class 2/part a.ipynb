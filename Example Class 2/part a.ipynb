{
 "cells": [
  {
   "cell_type": "code",
   "execution_count": 1,
   "id": "9b57077e",
   "metadata": {},
   "outputs": [],
   "source": [
    "# Creating a class for an array\n",
    "class priority_queue_array:\n",
    "    # Initialise array\n",
    "    def __init__(self, length):\n",
    "        self.len = length\n",
    "        self.arr = [float('inf')] * length\n",
    "        self.arr[0] = 0\n",
    "    \n",
    "    # When array is empty (where u value is infinity) return true, else return false\n",
    "    def is_empty(self):\n",
    "        for u in range(self.len) :\n",
    "            if self.arr[u] != float('inf') :\n",
    "                return False\n",
    "        return True\n",
    "    \n",
    "    def pop(self, u):\n",
    "        self.arr[u] = float('inf')\n",
    "        \n",
    "    def peak(self):\n",
    "        minimum_value = float('inf')\n",
    "        position = -1\n",
    "        for u in range(self.len) :\n",
    "            if self.arr[u] < minimum_value :\n",
    "                minimum_value = self.arr[u]\n",
    "                position = u\n",
    "        return position\n",
    "    \n",
    "    def update(self, u, value):\n",
    "        self.arr[u] = value\n",
    "\n",
    "def dijkastraAdjacencyMatrix(V, E):\n",
    "    # store the E into adjacency matrix\n",
    "    edge = [[-1] * V for i in range(V)] # initialize the edge matrix where -1 denotes no edge\n",
    "    for (start, end, value) in E :\n",
    "        edge[start][end] = value\n",
    "    \n",
    "    # initialize the priority queue\n",
    "    dis = [float('inf')] * V # initialize the distance array with value of infinity\n",
    "    dis[0] = 0\n",
    "    pq = priority_queue_array(V)\n",
    "    \n",
    "    while pq.is_empty() == False :\n",
    "        u = pq.peak()\n",
    "        pq.pop(u)\n",
    "        for v in range(V) :\n",
    "            if edge[u][v] != -1 and dis[v] > dis[u] + edge[u][v] :\n",
    "                dis[v] = dis[u] + edge[u][v]\n",
    "                pq.update(v, dis[v])\n",
    "    return dis[V - 1] "
   ]
  },
  {
   "cell_type": "code",
   "execution_count": 2,
   "id": "680b8fdf",
   "metadata": {},
   "outputs": [],
   "source": [
    "# Key Variables:\n",
    "# graph refers to the vertex graph in the targetted adjacency matrix. We will cover, average, best and worst.\n",
    "# v refers to vertex\n",
    "# s refers to solution set. Vertex which has been solved will be 1. Else default is s[v] = 0.\n",
    "# d refers to distance to said vertex, denoted as d[v] = infinity. Default will be infinity as we will use the minimum d[v] to solve.\n",
    "# pi refers to previous node for said vertex, denoted as pi[v] = none. Deafault will be none as no previous node is solved yet.\n",
    "# pq refers to priority queue, this is the array that will be used to determine the next vertex to find the shortest path\n",
    "\n",
    "# Function will find the distance to said vertex in graph based on the adjacency matrix using an array for priority queue\n",
    "\n",
    "def dijkstra(adj_matrix, source):\n",
    "    \n",
    "    d = [float('inf') for x in range(len(adj_matrix))] #initialise distance to everything be infinity\n",
    "    pi = [None for x in range(len(adj_matrix))] #initialise all nodes to have no predecessor\n",
    "    s = [0 for x in range(len(adj_matrix))] #initialise all nodes to be 0 (unvisited)\n",
    "    unexplored = [x for x in range(len(adj_matrix))] #add all nodes into unexplored nodes\n",
    "    d[source] = 0 # Distance for source to itself will be 0\n",
    "    pq = [distance for distance in d] # Priority queue will take values from distance. All will be infinity except for source =0\n",
    "    \n",
    "    while unexplored: # while unexplored not empty\n",
    "        shortestVertex = -1 # initialise shortestVertex to be -1 since none of our nodes will be negative\n",
    "        stillvalid = 0 # check if there are still any vertices connected\n",
    "        for i in range(len(pq)):\n",
    "            stillvalid = 0 # check if there are still any vertices connected\n",
    "            if pq[i] >= 0 and pq[i] != float('inf'):\n",
    "                stillvalid = 1\n",
    "                if shortestVertex == -1:\n",
    "                    shortestVertex = i\n",
    "                elif pq[i] < pq[shortestVertex]:\n",
    "                    shortestVertex = i\n",
    "        if stillvalid == 0:\n",
    "            break\n",
    "        \n",
    "        s[shortestVertex] = 1 # upon visit, s[v] = 1 denotes it has been visited. source vertex will always be visited first\n",
    "        pq[shortestVertex] = -1 # set its edge in pq to be -1 so it will not be picked again\n",
    "        unexplored.remove(shortestVertex) #remove shortestVertex from unexplored vertices\n",
    "        \n",
    "        vertices_lst = adj_matrix[shortestVertex]\n",
    "        for vertex in range(len(vertices_lst)):\n",
    "            if vertices_lst[vertex] == 0:\n",
    "                continue\n",
    "            if s[vertex] != 1 and d[vertex] > d[shortestVertex] + vertices_lst[vertex]:\n",
    "                d[vertex] = d[shortestVertex] + vertices_lst[vertex]\n",
    "                pi[vertex] = shortestVertex\n",
    "                pq[vertex] = d[vertex]"
   ]
  },
  {
   "cell_type": "markdown",
   "id": "483809c2",
   "metadata": {},
   "source": [
    "func dijkstra(matrix g, source)\n",
    "{\n",
    "    for each vertex in matrix g # initialise all vertexs O(v)\n",
    "    {\n",
    "        d[vertex] = infinity\n",
    "        pi[vertex] = none\n",
    "        s[vertex] = 0\n",
    "        unexplored =[vertex]\n",
    "    }\n",
    "    \n",
    "    d[source] = 0\n",
    "    pq = distance for distance in d\n",
    "    \n",
    "    while unexplored is not empty:\n",
    "        for item in pq: # importantly, chooses the next shortest vertex to post\n",
    "            {\n",
    "                if pq[item] >=0 && pq[item] != float\n",
    "                    shortestvertex = item\n",
    "            }\n",
    "        s[shortestvertex] = 1\n",
    "        pq[shortestvertex] = -1\n",
    "        unexplored.remove(shortestvertex)\n",
    "        \n",
    "        \n",
    "        \n",
    "}\n",
    "    "
   ]
  },
  {
   "cell_type": "markdown",
   "id": "1bd100e0",
   "metadata": {},
   "source": [
    "Now we have completed the function with array for adjency matrix, lets find the time complexity using average, best and worst cases of matrixes. To do that we shall first import our generated graphs."
   ]
  },
  {
   "cell_type": "code",
   "execution_count": 16,
   "id": "447a6e0a",
   "metadata": {},
   "outputs": [],
   "source": [
    "# Import Libraries\n",
    "import numpy as np\n",
    "import pandas as pd\n",
    "import sys\n",
    "import timeit\n",
    "import seaborn as sb\n",
    "import matplotlib.pyplot as plt"
   ]
  },
  {
   "cell_type": "code",
   "execution_count": 4,
   "id": "d455d239",
   "metadata": {},
   "outputs": [],
   "source": [
    "bestCase10 = pd.read_csv(\"bestCase10.csv\")\n",
    "avgCase10 = pd.read_csv(\"avgCase10.csv\")\n",
    "worstCase10 = pd.read_csv(\"worstCase10.csv\")\n",
    "\n",
    "bestCase100 = pd.read_csv(\"bestCase100.csv\")\n",
    "avgCase100 = pd.read_csv(\"avgCase100.csv\")\n",
    "worstCase100 = pd.read_csv(\"worstCase100.csv\")\n",
    "\n",
    "bestCase1000 = pd.read_csv(\"bestCase1000.csv\")\n",
    "avgCase1000 = pd.read_csv(\"avgCase1000.csv\")\n",
    "worstCase1000 = pd.read_csv(\"worstCase1000.csv\")\n",
    "\n",
    "bestCase10K = pd.read_csv(\"bestCase10K.csv\")\n",
    "avgCase10K = pd.read_csv(\"avgCase10K.csv\")\n",
    "worstCase10K = pd.read_csv(\"worstCase10K.csv\")\n",
    "\n",
    "best10 = np.array(((pd.DataFrame(bestCase10).iloc[: , 1:]).values.tolist()))\n",
    "avg10 = np.array(((pd.DataFrame(avgCase10).iloc[: , 1:]).values.tolist()))\n",
    "worst10 = np.array(((pd.DataFrame(worstCase10).iloc[: , 1:]).values.tolist()))\n",
    "\n",
    "best100 = np.array(((pd.DataFrame(bestCase100).iloc[: , 1:]).values.tolist()))\n",
    "avg100 = np.array(((pd.DataFrame(avgCase100).iloc[: , 1:]).values.tolist()))\n",
    "worst100 = np.array(((pd.DataFrame(worstCase100).iloc[: , 1:]).values.tolist()))\n",
    "\n",
    "best1000 = np.array(((pd.DataFrame(bestCase1000).iloc[: , 1:]).values.tolist()))\n",
    "avg1000 = np.array(((pd.DataFrame(avgCase1000).iloc[: , 1:]).values.tolist()))\n",
    "worst1000 = np.array(((pd.DataFrame(worstCase1000).iloc[: , 1:]).values.tolist()))\n",
    "\n",
    "best10K = np.array(((pd.DataFrame(bestCase10K).iloc[: , 1:]).values.tolist()))\n",
    "avg10K = np.array(((pd.DataFrame(avgCase10K).iloc[: , 1:]).values.tolist()))\n",
    "worst10K = np.array(((pd.DataFrame(worstCase10K).iloc[: , 1:]).values.tolist()))"
   ]
  },
  {
   "cell_type": "markdown",
   "id": "ac43ad14",
   "metadata": {},
   "source": []
  },
  {
   "cell_type": "code",
   "execution_count": 44,
   "id": "fa79ff45",
   "metadata": {},
   "outputs": [],
   "source": [
    "# Gathering timing for all graphs\n",
    "\n",
    "# List of items to run\n",
    "run_list1 = [best10,avg10,worst10]\n",
    "run_list2 = [best100,avg100,worst100]\n",
    "run_list3 = [best1000,avg1000,worst1000]\n",
    "run_list4 = [best10K,avg10K,worst10K]\n",
    "\n",
    "all_run = [run_list1,run_list2,run_list3,run_list4]\n",
    "\n",
    "# List of time_lists to populate\n",
    "time_list1, time_list2, time_list3, time_list4 = ([] for i in range(4))\n",
    "all_time = [time_list1,time_list2,time_list3,time_list4]\n",
    "\n",
    "# Run all 10 times for consistency\n",
    "for counter in range(0,4):\n",
    "    for matrix in all_run[counter]:\n",
    "        time_taken = 0;\n",
    "        avg_time = 0;\n",
    "        for i in range(0,1000):\n",
    "            start1 = timeit.default_timer()\n",
    "            dijkstra(matrix,0)\n",
    "            run_time = timeit.default_timer()-start1\n",
    "            time_taken += run_time\n",
    "        avg_time = time_taken/1000\n",
    "        all_time[counter].append(avg_time)\n"
   ]
  },
  {
   "cell_type": "code",
   "execution_count": 45,
   "id": "c6612e2d",
   "metadata": {},
   "outputs": [
    {
     "data": {
      "text/html": [
       "<div>\n",
       "<style scoped>\n",
       "    .dataframe tbody tr th:only-of-type {\n",
       "        vertical-align: middle;\n",
       "    }\n",
       "\n",
       "    .dataframe tbody tr th {\n",
       "        vertical-align: top;\n",
       "    }\n",
       "\n",
       "    .dataframe thead th {\n",
       "        text-align: right;\n",
       "    }\n",
       "</style>\n",
       "<table border=\"1\" class=\"dataframe\">\n",
       "  <thead>\n",
       "    <tr style=\"text-align: right;\">\n",
       "      <th></th>\n",
       "      <th>10</th>\n",
       "      <th>100</th>\n",
       "      <th>1K</th>\n",
       "      <th>10K</th>\n",
       "      <th>Case</th>\n",
       "    </tr>\n",
       "  </thead>\n",
       "  <tbody>\n",
       "    <tr>\n",
       "      <th>0</th>\n",
       "      <td>0.000005</td>\n",
       "      <td>0.000033</td>\n",
       "      <td>0.000329</td>\n",
       "      <td>0.003246</td>\n",
       "      <td>Best</td>\n",
       "    </tr>\n",
       "    <tr>\n",
       "      <th>1</th>\n",
       "      <td>0.000005</td>\n",
       "      <td>0.000032</td>\n",
       "      <td>0.000330</td>\n",
       "      <td>0.003264</td>\n",
       "      <td>Average</td>\n",
       "    </tr>\n",
       "    <tr>\n",
       "      <th>2</th>\n",
       "      <td>0.000005</td>\n",
       "      <td>0.000032</td>\n",
       "      <td>0.000334</td>\n",
       "      <td>0.003239</td>\n",
       "      <td>Worst</td>\n",
       "    </tr>\n",
       "  </tbody>\n",
       "</table>\n",
       "</div>"
      ],
      "text/plain": [
       "         10       100        1K       10K     Case\n",
       "0  0.000005  0.000033  0.000329  0.003246     Best\n",
       "1  0.000005  0.000032  0.000330  0.003264  Average\n",
       "2  0.000005  0.000032  0.000334  0.003239    Worst"
      ]
     },
     "execution_count": 45,
     "metadata": {},
     "output_type": "execute_result"
    }
   ],
   "source": [
    "case = ['Best', 'Average', 'Worst']\n",
    "results = pd.DataFrame({'10': time_list1, '100': time_list2, '1K': time_list3, '10K': time_list4, 'Case': case}, columns=['10', '100', '1K', '10K', 'Case'])\n",
    "results.head()"
   ]
  },
  {
   "cell_type": "code",
   "execution_count": 30,
   "id": "926d388e",
   "metadata": {},
   "outputs": [
    {
     "data": {
      "text/plain": [
       "'10'"
      ]
     },
     "execution_count": 30,
     "metadata": {},
     "output_type": "execute_result"
    }
   ],
   "source": [
    "results.columns[0]"
   ]
  },
  {
   "cell_type": "code",
   "execution_count": 43,
   "id": "6cf6bad1",
   "metadata": {
    "scrolled": true
   },
   "outputs": [
    {
     "data": {
      "image/png": "[encoded data removed]",
      "text/plain": [
       "<Figure size 864x504 with 4 Axes>"
      ]
     },
     "metadata": {
      "needs_background": "light"
     },
     "output_type": "display_data"
    }
   ],
   "source": [
    "x = [10, 10, 10, 100, 100, 100, 1000, 1000, 1000, 10000, 10000, 10000]\n",
    "y = [0.000005, 0.000005, 0.000005, 0.000035, 0.000036, 0.000033, 0.000330, 0.000318, 0.000318, 0.003167, 0.003206, 0.003276]\n",
    "z = ['Best', 'Average', 'Worst','Best', 'Average', 'Worst','Best', 'Average', 'Worst','Best', 'Average', 'Worst']\n",
    "\n",
    "results = pd.DataFrame({'Size': x, 'Time(s)': y, 'Case': z}, columns=['Size', 'Time(s)', 'Case'])\n",
    "results_10 = results[results[\"Size\"] == 10]\n",
    "results_100 = results[results[\"Size\"] == 100]\n",
    "results_1k = results[results[\"Size\"] == 1000]\n",
    "results_10k = results[results[\"Size\"] == 10000]\n",
    "fig, axs = plt.subplots(2, 2, figsize=(12, 7))\n",
    "\n",
    "\n",
    "axs[0, 0].set_title(\"Graph Size: 10\")\n",
    "axs[0, 1].set_title(\"Graph Size: 100\")\n",
    "axs[1, 0].set_title(\"Graph Size: 1000\")\n",
    "axs[1, 1].set_title(\"Graph Size: 10,000\")\n",
    "\n",
    "\n",
    "sb.barplot(data=results_10, y=\"Time(s)\", x=\"Size\", hue=\"Case\", ax=axs[0, 0])\n",
    "sb.barplot(data=results_100, y=\"Time(s)\", x=\"Size\", hue=\"Case\", ax=axs[0, 1])\n",
    "sb.barplot(data=results_1k, y=\"Time(s)\", x=\"Size\", hue=\"Case\", ax=axs[1, 0])\n",
    "sb.barplot(data=results_10k, y=\"Time(s)\", x=\"Size\", hue=\"Case\", ax=axs[1, 1])\n",
    "\n",
    "plt.tight_layout()"
   ]
  }
 ],
 "metadata": {
  "kernelspec": {
   "display_name": "Python 3 (ipykernel)",
   "language": "python",
   "name": "python3"
  },
  "language_info": {
   "codemirror_mode": {
    "name": "ipython",
    "version": 3
   },
   "file_extension": ".py",
   "mimetype": "text/x-python",
   "name": "python",
   "nbconvert_exporter": "python",
   "pygments_lexer": "ipython3",
   "version": "3.10.7"
  }
 },
 "nbformat": 4,
 "nbformat_minor": 5
}
