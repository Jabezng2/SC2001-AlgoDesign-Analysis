{
 "cells": [
  {
   "cell_type": "markdown",
   "id": "5752b41d",
   "metadata": {},
   "source": [
    "### HybridSort, MergeSort & InsertionSort"
   ]
  },
  {
   "cell_type": "code",
   "execution_count": 72,
   "id": "1b2b13e6",
   "metadata": {},
   "outputs": [],
   "source": [
    "class HybrSort:\n",
    "    \n",
    "    # CONSTRUCTOR\n",
    "    def __init__(self, array=[]):\n",
    "        self.array = array\n",
    "        self.count = 0\n",
    "        \n",
    "    # MERGE FUNCTION    \n",
    "    def Merge(self, n, m):\n",
    "        mid = int((n + m)/2) \n",
    "        a = n\n",
    "        b = m + 1;\n",
    "        if(m-n) <= 0:\n",
    "            return \n",
    "        while(a <= mid and b <= m):\n",
    "            if(self.array[a] < self.array[b]): \n",
    "                a+=1\n",
    "            elif(self.array[a] > self.array[b]):\n",
    "                temp = self.array[b]\n",
    "                for i in range(b, a, -1):\n",
    "                    self.array[i] = self.array[i-1]\n",
    "                self.array[a] = temp\n",
    "                a+=1\n",
    "                mid+=1\n",
    "            else:\n",
    "                for i in range(b, a, -1):\n",
    "                    self.array[i] = self.array[i-1]\n",
    "                self.array[a+1] = self.array[a]\n",
    "                a+=2\n",
    "                mid+=1\n",
    "            self.count += 1 # KEY COMPARISON COUNT\n",
    "        return\n",
    "    \n",
    "    # INSERTION SORT\n",
    "    def InsertionSort(self, n, m):\n",
    "        if(n >= m):\n",
    "            return\n",
    "        for i in range(n+1, m+1):\n",
    "            for j in range(i, n, -1):\n",
    "                if(self.array[j] < self.array[j-1]):\n",
    "                    self.count += 1 # KEY COMPARISON COUNT\n",
    "                    temp = self.array[j]\n",
    "                    self.array[j] = self.array[j-1]\n",
    "                    self.array[j-1] = self.array[j]\n",
    "                else:\n",
    "                    break\n",
    "        return\n",
    "    \n",
    "    # HYBRID SORT\n",
    "    def HybridSort(self, n, m, s):\n",
    "        mid = int((n+m)/2)\n",
    "        if(m-n+1 <= s):\n",
    "            self.InsertionSort(n, m)\n",
    "        else:\n",
    "            self.HybridSort(n, mid, s)\n",
    "            self.HybridSort(mid+1, m, s)\n",
    "            self.Merge(n, m)\n",
    "        return"
   ]
  },
  {
   "cell_type": "markdown",
   "id": "058cb4d6",
   "metadata": {},
   "source": [
    "### Generating arrays of data from CSV files"
   ]
  },
  {
   "cell_type": "code",
   "execution_count": 73,
   "id": "2e449ef8",
   "metadata": {},
   "outputs": [],
   "source": [
    "import pandas as pd\n",
    "import numpy as np\n",
    "\n",
    "data1 = pd.read_csv(\"exampleClass1DatasetSize1000.csv\")\n",
    "data2 = pd.read_csv(\"exampleClass1DatasetSize10000.csv\")\n",
    "data3 = pd.read_csv(\"exampleClass1DatasetSize100000.csv\")\n",
    "data4 = pd.read_csv(\"exampleClass1DatasetSize1000000.csv\")\n",
    "data5 = pd.read_csv(\"exampleClass1DatasetSize10000000.csv\")\n",
    "data1 = data1[['rand0', 'rand1', 'rand2', 'rand3', 'rand4', 'rand5', 'rand6', 'rand7', 'rand8', 'rand9']]\n",
    "data2 = data2[['rand0', 'rand1', 'rand2', 'rand3', 'rand4', 'rand5', 'rand6', 'rand7', 'rand8', 'rand9']]\n",
    "data3 = data3[['rand0', 'rand1', 'rand2', 'rand3', 'rand4', 'rand5', 'rand6', 'rand7', 'rand8', 'rand9']]\n",
    "data4 = data4[['rand0', 'rand1', 'rand2', 'rand3', 'rand4', 'rand5', 'rand6', 'rand7', 'rand8', 'rand9']]\n",
    "data5 = data5[['rand0', 'rand1', 'rand2', 'rand3', 'rand4', 'rand5', 'rand6', 'rand7', 'rand8', 'rand9']]\n",
    "data1 = pd.DataFrame(data1)\n",
    "data2 = pd.DataFrame(data2)\n",
    "data3 = pd.DataFrame(data3)\n",
    "data4 = pd.DataFrame(data4)\n",
    "data5 = pd.DataFrame(data5)\n",
    "data1 = (np.array(data1.values.tolist())).flatten()\n",
    "data2 = (np.array(data2.values.tolist())).flatten()\n",
    "data3 = (np.array(data3.values.tolist())).flatten()\n",
    "data4 = (np.array(data4.values.tolist())).flatten()\n",
    "data5 = (np.array(data5.values.tolist())).flatten()"
   ]
  },
  {
   "cell_type": "code",
   "execution_count": 74,
   "id": "d77526b2",
   "metadata": {},
   "outputs": [
    {
     "name": "stdout",
     "output_type": "stream",
     "text": [
      "5373 59683 530391 5308626 59003572\n"
     ]
    }
   ],
   "source": [
    "# Theoretical S size is approx 7\n",
    "# Data1\n",
    "hs = HybrSort()\n",
    "hs.array = data1\n",
    "hs.HybridSort(0, len(data1)-1, 7)\n",
    "count1 = hs.count\n",
    "# Data2\n",
    "hs.count = 0\n",
    "hs.array = data2\n",
    "hs.HybridSort(0, len(data2)-1, 7)\n",
    "count2 = hs.count\n",
    "# Data3\n",
    "hs.count = 0\n",
    "hs.array = data3\n",
    "hs.HybridSort(0, len(data3)-1, 7)\n",
    "count3 = hs.count\n",
    "# Data4\n",
    "hs.count = 0\n",
    "hs.array = data4\n",
    "hs.HybridSort(0, len(data4)-1, 7)\n",
    "count4 = hs.count\n",
    "# Data5\n",
    "hs.count = 0\n",
    "hs.array = data5\n",
    "hs.HybridSort(0, len(data5)-1, 7)\n",
    "count5 = hs.count\n",
    "print(count1, count2, count3, count4, count5)"
   ]
  },
  {
   "cell_type": "code",
   "execution_count": 75,
   "id": "b2259c3f",
   "metadata": {},
   "outputs": [
    {
     "data": {
      "text/plain": [
       "Text(0, 0.5, 'Number Of Key Comparisons')"
      ]
     },
     "execution_count": 75,
     "metadata": {},
     "output_type": "execute_result"
    },
    {
     "data": {
      "image/png": "[encoded data removed]",
      "text/plain": [
       "<Figure size 504x1440 with 1 Axes>"
      ]
     },
     "metadata": {
      "needs_background": "light"
     },
     "output_type": "display_data"
    }
   ],
   "source": [
    "import matplotlib.pyplot as plt\n",
    "ds = ['1K', '10K', '100K', '1M', '10M']\n",
    "kc = [count1, count2, count3, count4, count5]\n",
    "plt.figure(figsize=(7, 20))\n",
    "plt.bar(ds, kc)\n",
    "plt.title(\"Number Of Key Comparisons against Input List Size\")\n",
    "plt.xlabel(\"Input List Size\")\n",
    "plt.ylabel(\"Number Of Key Comparisons\")"
   ]
  },
  {
   "cell_type": "code",
   "execution_count": null,
   "id": "36dc567f",
   "metadata": {},
   "outputs": [],
   "source": []
  }
 ],
 "metadata": {
  "kernelspec": {
   "display_name": "Python 3 (ipykernel)",
   "language": "python",
   "name": "python3"
  },
  "language_info": {
   "codemirror_mode": {
    "name": "ipython",
    "version": 3
   },
   "file_extension": ".py",
   "mimetype": "text/x-python",
   "name": "python",
   "nbconvert_exporter": "python",
   "pygments_lexer": "ipython3",
   "version": "3.9.7"
  }
 },
 "nbformat": 4,
 "nbformat_minor": 5
}
