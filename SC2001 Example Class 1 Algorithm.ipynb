{
 "cells": [
  {
   "cell_type": "code",
   "execution_count": null,
   "id": "1b2b13e6",
   "metadata": {},
   "outputs": [],
   "source": [
    "class HybrSort:\n",
    "    count = 0;\n",
    "    # CONSTRUCTOR\n",
    "    def __init__(self, array=[]):\n",
    "        self.array = array\n",
    "        HybrSort.count = 0\n",
    "        \n",
    "    # MERGE FUNCTION    \n",
    "    def Merge(self, n, m):\n",
    "        mid = int((n + m)/2) \n",
    "        a = n\n",
    "        b = m + 1;\n",
    "        if(m-n) <= 0:\n",
    "            return \n",
    "        while(first <= mid and second <= right):\n",
    "            if(self.array[a] < self.array[b]):\n",
    "                a+=1\n",
    "            else if(self.array[a] > self.array[b]):\n",
    "                temp = self.array[b]\n",
    "                for i in range(b, a, -1):\n",
    "                    self.array[i] = self.array[i-1]\n",
    "                self.array[a] = temp\n",
    "                a+=1\n",
    "                mid+=1\n",
    "            else:\n",
    "                for i in range(b, a, -1):\n",
    "                    self.array[i] = self.array[i-1]\n",
    "                self.array[a+1] = self.array[a]\n",
    "                a+=2\n",
    "                mid+=1\n",
    "        return\n",
    "    \n",
    "    # INSERTION SORT\n",
    "    def InsertionSort(self, n, m):\n",
    "        if(n >= m):\n",
    "            return\n",
    "        for i in range(n+1, m+1):\n",
    "            for j in range(i, n, -1):\n",
    "                if(self.array[j] < self.array[j-1]):\n",
    "                    temp = self.array[j]\n",
    "                    self.array[j] = self.array[j-1]\n",
    "                    self.array[j-1] = self.array[j]\n",
    "                else:\n",
    "                    break\n",
    "        return\n",
    "    # HYBRID SORT\n",
    "    def HybridSort(self, n, m, s):\n",
    "        mid = int((n+m)/2)\n",
    "        if(m-n+1 <= s):\n",
    "            self.InsertionSort(n, m)\n",
    "        else:\n",
    "            self.HybridSort(n, mid, s)\n",
    "            self.HybridSort(mid+1, m, s)\n",
    "            self.merge(n, m)\n",
    "    return    "
   ]
  }
 ],
 "metadata": {
  "kernelspec": {
   "display_name": "Python 3 (ipykernel)",
   "language": "python",
   "name": "python3"
  },
  "language_info": {
   "codemirror_mode": {
    "name": "ipython",
    "version": 3
   },
   "file_extension": ".py",
   "mimetype": "text/x-python",
   "name": "python",
   "nbconvert_exporter": "python",
   "pygments_lexer": "ipython3",
   "version": "3.9.7"
  }
 },
 "nbformat": 4,
 "nbformat_minor": 5
}
