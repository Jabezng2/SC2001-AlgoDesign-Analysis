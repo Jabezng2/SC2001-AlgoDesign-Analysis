{
 "cells": [
  {
   "cell_type": "code",
   "execution_count": 5,
   "id": "e88c7724",
   "metadata": {},
   "outputs": [],
   "source": [
    "import pandas as pd\n",
    "weight = [1, 2, 3]\n",
    "profit = [1, 4, 6]"
   ]
  },
  {
   "cell_type": "code",
   "execution_count": 6,
   "id": "b188f3ed",
   "metadata": {},
   "outputs": [],
   "source": [
    "# Dynamic Programming | Bottom-Up Approach (Follows Lecture way not GFG way table is just constructed differently)\n",
    "def knapsack(C, weight, profit, n):\n",
    "    # Initialise the DP table\n",
    "    # Values are all initialised to 0 but in actuality, only row 0 and col 0 will be 0\n",
    "    V = [[0 for i in range(n + 1)] for i in range(C + 1)]\n",
    "    \n",
    "    # Construct the table in a bottom up manner\n",
    "    for i in range(1, n + 1): # Iterate through the ROWS (Dictates the capacity limit we set)\n",
    "        for w in range(1, C + 1): # Iterate through the COLS (Dictates the number of objects we can consider)\n",
    "            if weight[i-1] <= w: # If the weight of object is less than the capacity limit\n",
    "                # Max value of the two possible options\n",
    "                # 1: We DO NOT include the i'th object -> V[i-1][w]\n",
    "                # 2: We include the i'th object -> V[i-1][w-wt[i-1]] + val[i-1]\n",
    "                V[i][w] = max(V[i-1][w], V[i-1][w-weight[i-1]] + profit[i-1])\n",
    "            else:\n",
    "                V[i][w] = V[i-1][w]\n",
    "    return V[n][C], V \n",
    "\n",
    "# TIME COMPLEXITY: O(numOfObjects * weights)\n",
    "# SPACE COMPLEXITY: O(numOfObjects * weights) -> essentially the size of the table constructed"
   ]
  },
  {
   "cell_type": "code",
   "execution_count": 7,
   "id": "ff681f46",
   "metadata": {},
   "outputs": [
    {
     "name": "stdout",
     "output_type": "stream",
     "text": [
      "6\n",
      "[[0, 0, 0, 0], [0, 1, 1, 1], [0, 1, 4, 5], [0, 1, 4, 6]]\n"
     ]
    }
   ],
   "source": [
    "ans, array = knapsack(3, weight, profit, 3)\n",
    "print(ans)\n",
    "print(array)"
   ]
  },
  {
   "cell_type": "code",
   "execution_count": 8,
   "id": "bfafdbfb",
   "metadata": {},
   "outputs": [
    {
     "data": {
      "text/html": [
       "<div>\n",
       "<style scoped>\n",
       "    .dataframe tbody tr th:only-of-type {\n",
       "        vertical-align: middle;\n",
       "    }\n",
       "\n",
       "    .dataframe tbody tr th {\n",
       "        vertical-align: top;\n",
       "    }\n",
       "\n",
       "    .dataframe thead th {\n",
       "        text-align: right;\n",
       "    }\n",
       "</style>\n",
       "<table border=\"1\" class=\"dataframe\">\n",
       "  <thead>\n",
       "    <tr style=\"text-align: right;\">\n",
       "      <th></th>\n",
       "      <th>0</th>\n",
       "      <th>1</th>\n",
       "      <th>2</th>\n",
       "      <th>3</th>\n",
       "    </tr>\n",
       "  </thead>\n",
       "  <tbody>\n",
       "    <tr>\n",
       "      <th>0</th>\n",
       "      <td>0</td>\n",
       "      <td>0</td>\n",
       "      <td>0</td>\n",
       "      <td>0</td>\n",
       "    </tr>\n",
       "    <tr>\n",
       "      <th>1</th>\n",
       "      <td>0</td>\n",
       "      <td>1</td>\n",
       "      <td>1</td>\n",
       "      <td>1</td>\n",
       "    </tr>\n",
       "    <tr>\n",
       "      <th>2</th>\n",
       "      <td>0</td>\n",
       "      <td>1</td>\n",
       "      <td>4</td>\n",
       "      <td>5</td>\n",
       "    </tr>\n",
       "    <tr>\n",
       "      <th>3</th>\n",
       "      <td>0</td>\n",
       "      <td>1</td>\n",
       "      <td>4</td>\n",
       "      <td>6</td>\n",
       "    </tr>\n",
       "  </tbody>\n",
       "</table>\n",
       "</div>"
      ],
      "text/plain": [
       "   0  1  2  3\n",
       "0  0  0  0  0\n",
       "1  0  1  1  1\n",
       "2  0  1  4  5\n",
       "3  0  1  4  6"
      ]
     },
     "execution_count": 8,
     "metadata": {},
     "output_type": "execute_result"
    }
   ],
   "source": [
    "pd.DataFrame(array)"
   ]
  },
  {
   "cell_type": "code",
   "execution_count": null,
   "id": "06ebe9a6",
   "metadata": {},
   "outputs": [],
   "source": []
  }
 ],
 "metadata": {
  "kernelspec": {
   "display_name": "Python 3 (ipykernel)",
   "language": "python",
   "name": "python3"
  },
  "language_info": {
   "codemirror_mode": {
    "name": "ipython",
    "version": 3
   },
   "file_extension": ".py",
   "mimetype": "text/x-python",
   "name": "python",
   "nbconvert_exporter": "python",
   "pygments_lexer": "ipython3",
   "version": "3.9.7"
  }
 },
 "nbformat": 4,
 "nbformat_minor": 5
}
