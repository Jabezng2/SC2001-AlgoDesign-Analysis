{
 "cells": [
  {
   "cell_type": "markdown",
   "id": "448dea18",
   "metadata": {},
   "source": [
    "Using the five created datasets, they vary from 1 000, 10 000, 100 000, 1 000 000, to 10 000 000 items each. These datasets are then processed using numpy and pandas."
   ]
  },
  {
   "cell_type": "code",
   "execution_count": 27,
   "id": "8b2cfd2c",
   "metadata": {},
   "outputs": [
    {
     "name": "stdout",
     "output_type": "stream",
     "text": [
      "Importing 1000 sample size... 1/5\n",
      "Imported data1 (1000)\n",
      "\n",
      "Importing 10000 sample size... 2/5\n",
      "Imported data2 (10000)\n",
      "\n",
      "Importing 100000 sample size... 3/5\n",
      "Imported data3 (100000)\n",
      "\n",
      "Importing 1000000 sample size... 4/5\n",
      "Imported data4 (1000000)\n",
      "\n",
      "Importing 10000000 sample size... 5/5\n",
      "Imported data5 (10000000)\n"
     ]
    }
   ],
   "source": [
    "# Importing required modules.\n",
    "import pandas as pd\n",
    "import numpy as np\n",
    "\n",
    "print(\"Importing 1000 sample size... 1/5\")\n",
    "data1 = pd.read_csv(\"exampleClass1DatasetSize1000.csv\")\n",
    "data1 = data1[['rand0', 'rand1', 'rand2', 'rand3', 'rand4', 'rand5', 'rand6', 'rand7', 'rand8', 'rand9']]\n",
    "data1 = pd.DataFrame(data1)\n",
    "data1 = (np.array(data1.values.tolist())).flatten()\n",
    "print(\"\"\"Imported data1 (1000)\\n\"\"\")\n",
    "\n",
    "print(\"Importing 10000 sample size... 2/5\")\n",
    "data2 = pd.read_csv(\"exampleClass1DatasetSize10000.csv\")\n",
    "data2 = data2[['rand0', 'rand1', 'rand2', 'rand3', 'rand4', 'rand5', 'rand6', 'rand7', 'rand8', 'rand9']]\n",
    "data2 = pd.DataFrame(data2)\n",
    "data2 = (np.array(data2.values.tolist())).flatten()\n",
    "print(\"\"\"Imported data2 (10000)\\n\"\"\")\n",
    "\n",
    "print(\"Importing 100000 sample size... 3/5\")\n",
    "data3 = pd.read_csv(\"exampleClass1DatasetSize100000.csv\")\n",
    "data3 = data3[['rand0', 'rand1', 'rand2', 'rand3', 'rand4', 'rand5', 'rand6', 'rand7', 'rand8', 'rand9']]\n",
    "data3 = pd.DataFrame(data3)\n",
    "data3 = (np.array(data3.values.tolist())).flatten()\n",
    "print(\"\"\"Imported data3 (100000)\\n\"\"\")\n",
    "\n",
    "print(\"Importing 1000000 sample size... 4/5\")\n",
    "data4 = pd.read_csv(\"exampleClass1DatasetSize1000000.csv\")\n",
    "data4 = data4[['rand0', 'rand1', 'rand2', 'rand3', 'rand4', 'rand5', 'rand6', 'rand7', 'rand8', 'rand9']]\n",
    "data4 = pd.DataFrame(data4)\n",
    "data4 = (np.array(data4.values.tolist())).flatten()\n",
    "print(\"\"\"Imported data4 (1000000)\\n\"\"\")\n",
    "\n",
    "print(\"Importing 10000000 sample size... 5/5\")\n",
    "data5 = pd.read_csv(\"exampleClass1DatasetSize10000000.csv\")\n",
    "data5 = data5[['rand0', 'rand1', 'rand2', 'rand3', 'rand4', 'rand5', 'rand6', 'rand7', 'rand8', 'rand9']]\n",
    "data5 = pd.DataFrame(data5)\n",
    "data5 = (np.array(data5.values.tolist())).flatten()\n",
    "print(\"\"\"Imported data5 (10000000)\"\"\")"
   ]
  },
  {
   "cell_type": "markdown",
   "id": "7512d47f",
   "metadata": {},
   "source": [
    "Now that we have our dataset, we shall showcase what the original mergesort would look like in python. We recreated the mergesort function in python, and ran a small test sample of how it should work and should look like."
   ]
  },
  {
   "cell_type": "code",
   "execution_count": 28,
   "id": "d21ec478",
   "metadata": {},
   "outputs": [
    {
     "name": "stdout",
     "output_type": "stream",
     "text": [
      "Unique sorted: \n",
      "[1, 2, 3, 4, 6, 7, 8, 87, 545]\n"
     ]
    }
   ],
   "source": [
    "def mergeSort(dataset):\n",
    "    \"\"\" Function to do merge sort \"\"\"\n",
    "    if len(dataset) > 1:\n",
    "  \n",
    "        # Floor division to get rough midpoint of given dataset\n",
    "        mid = len(dataset)//2\n",
    "  \n",
    "        # Dividing dataset into left and right for recursion\n",
    "        L = dataset[:mid]\n",
    "        R = dataset[mid:]\n",
    "  \n",
    "        # Recursive on left and right\n",
    "        mergeSort(L)\n",
    "        mergeSort(R)\n",
    "  \n",
    "        counterL,counterR,counterFinal = 0,0,0\n",
    "  \n",
    "        # Checks if left value or right value is lower, if so, replace with current order from lowest\n",
    "        # Repeat till end of L or R list.\n",
    "        while counterR < len(R) and counterL < len(L):\n",
    "            if L[counterL] < R[counterR]:\n",
    "                dataset[counterFinal] = L[counterL]\n",
    "                counterL += 1\n",
    "            else:\n",
    "                dataset[counterFinal] = R[counterR]\n",
    "                counterR += 1\n",
    "            counterFinal += 1\n",
    "  \n",
    "        # Appending remaining values on L and R dataset to final list as the remaining values are already sorted.\n",
    "        while counterL < len(L):\n",
    "            dataset[counterFinal] = L[counterL]\n",
    "            counterL += 1\n",
    "            counterFinal += 1\n",
    "        while counterR < len(R):\n",
    "            dataset[counterFinal] = R[counterR]\n",
    "            counterR += 1\n",
    "            counterFinal += 1\n",
    "\n",
    "  \n",
    "def printResults(results):\n",
    "    \"\"\" Function will print only unique occurences of numbers from the list to reduce print size. \"\"\"\n",
    "    printed = []\n",
    "    for i in range(len(results)):\n",
    "        if results[i] not in printed:\n",
    "            printed.append(results[i])\n",
    "    print(printed)\n",
    "  \n",
    "  \n",
    "# Testing our code with a small test data.\n",
    "\n",
    "test_data = [1, 2, 3, 7, 3, 6, 7, 87, 8, 2, 4, 545, 1, 3]\n",
    "mergeSort(test_data)\n",
    "print(\"Unique sorted: \")\n",
    "printResults(test_data)"
   ]
  },
  {
   "cell_type": "markdown",
   "id": "b0263c36",
   "metadata": {},
   "source": [
    "We have showed the original mergesort using python. We are tasked to compare the performance of this mergesort against our hybrid algorithm in terms of the number of key comparisons and CPU times based on the 10 million dataset. To do this we have to split this into two problems, identifying key number of comparisons per algorithm and identifying CPU times of each algorithms.\n",
    "\n",
    "As we understand our dataset will be constant throughout each of the comparisons, we can safely split our problem into 2 separate solutions per 10 million dataset, one to identify the number of comparisons, the other the CPU times. Let's solve the key comparisons first.\n",
    "\n",
    "Here we shall use the same function as earlier and add in a global counter to count the number of comparisons at each comparison."
   ]
  },
  {
   "cell_type": "code",
   "execution_count": 45,
   "id": "2b78ee8f",
   "metadata": {},
   "outputs": [
    {
     "name": "stdout",
     "output_type": "stream",
     "text": [
      "Unique sorted: \n",
      "[0, 1, 2, 3]\n",
      "Total amount of comparisons 5.\n"
     ]
    }
   ],
   "source": [
    "mergeCounter = 0\n",
    "\n",
    "def mergeSort(dataset):\n",
    "    global mergeCounter\n",
    "    \n",
    "    \"\"\" Function to do merge sort \"\"\"\n",
    "    if len(dataset) > 1:\n",
    "  \n",
    "        # Floor division to get rough midpoint of given dataset\n",
    "        mid = len(dataset)//2\n",
    "  \n",
    "        # Dividing dataset into left and right for recursion\n",
    "        L = dataset[:mid]\n",
    "        R = dataset[mid:]\n",
    "  \n",
    "        # Recursive on left and right\n",
    "        mergeSort(L)\n",
    "        mergeSort(R)\n",
    "  \n",
    "        counterL,counterR,counterFinal = 0,0,0\n",
    "  \n",
    "        # Checks if left value or right value is lower, if so, replace with current order from lowest\n",
    "        # Repeat till end of L or R list.\n",
    "        while counterR < len(R) and counterL < len(L):\n",
    "            if L[counterL] < R[counterR]:\n",
    "                dataset[counterFinal] = L[counterL]\n",
    "                counterL += 1\n",
    "            else:\n",
    "                dataset[counterFinal] = R[counterR]\n",
    "                counterR += 1\n",
    "                mergeCounter += 1\n",
    "            counterFinal += 1\n",
    "            \n",
    "  \n",
    "        # Appending remaining values on L and R dataset to final list as the remaining values are already sorted.\n",
    "        while counterL < len(L):\n",
    "            dataset[counterFinal] = L[counterL]\n",
    "            counterL += 1\n",
    "            counterFinal += 1\n",
    "        while counterR < len(R):\n",
    "            dataset[counterFinal] = R[counterR]\n",
    "            counterR += 1\n",
    "            counterFinal += 1\n",
    "\n",
    "  \n",
    "def printResults(results):\n",
    "    \"\"\" Function will print only unique occurences of numbers from the list to reduce print size. \"\"\"\n",
    "    printed = []\n",
    "    for i in range(len(results)):\n",
    "        if results[i] not in printed:\n",
    "            printed.append(results[i])\n",
    "    print(printed)\n",
    "  \n",
    "  \n",
    "# Testing our code with a small test data.\n",
    "\n",
    "test_data = [0,1,3,2]\n",
    "mergeSort(test_data)\n",
    "print(\"Unique sorted: \")\n",
    "printResults(test_data)\n",
    "mergeCounter += len(test_data)\n",
    "print(f\"Total amount of comparisons {mergeCounter}.\")"
   ]
  },
  {
   "cell_type": "markdown",
   "id": "afa2b148",
   "metadata": {},
   "source": [
    "Now that we have determined the number of comparisons, lets determine the CPU time for each algorithm! To do that we will use timeit."
   ]
  },
  {
   "cell_type": "code",
   "execution_count": 41,
   "id": "99af4f40",
   "metadata": {},
   "outputs": [
    {
     "name": "stdout",
     "output_type": "stream",
     "text": [
      "Starting execution timer...\n",
      "test\n",
      "Time taken:0.5422483000002103\n"
     ]
    }
   ],
   "source": [
    "import timeit\n",
    "\n",
    "# Defining our code to run once\n",
    "\n",
    "onetime = '''\n",
    "import pandas as pd\n",
    "import numpy as np\n",
    "\n",
    "data5 = pd.read_csv(\"exampleClass1DatasetSize10000000.csv\")\n",
    "data5 = data5[['rand0', 'rand1', 'rand2', 'rand3', 'rand4', 'rand5', 'rand6', 'rand7', 'rand8', 'rand9']]\n",
    "data5 = pd.DataFrame(data5)\n",
    "data5 = (np.array(data5.values.tolist())).flatten()\n",
    "\n",
    "'''\n",
    "\n",
    "code_to_run = '''\n",
    "def mergeSort(dataset):\n",
    "    \"\"\" Function to do merge sort \"\"\"\n",
    "    if len(dataset) > 1:\n",
    "        mid = len(dataset)//2\n",
    "        L = dataset[:mid]\n",
    "        R = dataset[mid:]\n",
    "        mergeSort(L)\n",
    "        mergeSort(R)\n",
    "        counterL,counterR,counterFinal = 0,0,0\n",
    "        while counterR < len(R) and counterL < len(L):\n",
    "            if L[counterL] < R[counterR]:\n",
    "                dataset[counterFinal] = L[counterL]\n",
    "                counterL += 1\n",
    "            else:\n",
    "                dataset[counterFinal] = R[counterR]\n",
    "                counterR += 1\n",
    "            counterFinal += 1\n",
    "        while counterL < len(L):\n",
    "            dataset[counterFinal] = L[counterL]\n",
    "            counterL += 1\n",
    "            counterFinal += 1\n",
    "        while counterR < len(R):\n",
    "            dataset[counterFinal] = R[counterR]\n",
    "            counterR += 1\n",
    "            counterFinal += 1\n",
    "\n",
    "mergeSort(data5)\n",
    "'''\n",
    "print(\"Starting execution timer...\")\n",
    "time_check = timeit.repeat(setup = onetime, stmt=code_to_run, repeat = 1, number = 10)\n",
    "print(f\"Time taken for mergesort:{min(time_check)}\")"
   ]
  },
  {
   "cell_type": "code",
   "execution_count": null,
   "id": "ede75fbc",
   "metadata": {},
   "outputs": [],
   "source": []
  },
  {
   "cell_type": "code",
   "execution_count": null,
   "id": "b9c6e1f6",
   "metadata": {},
   "outputs": [],
   "source": []
  }
 ],
 "metadata": {
  "kernelspec": {
   "display_name": "Python 3 (ipykernel)",
   "language": "python",
   "name": "python3"
  },
  "language_info": {
   "codemirror_mode": {
    "name": "ipython",
    "version": 3
   },
   "file_extension": ".py",
   "mimetype": "text/x-python",
   "name": "python",
   "nbconvert_exporter": "python",
   "pygments_lexer": "ipython3",
   "version": "3.8.10"
  }
 },
 "nbformat": 4,
 "nbformat_minor": 5
}
