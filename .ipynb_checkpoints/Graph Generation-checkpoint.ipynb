{
 "cells": [
  {
   "cell_type": "code",
   "execution_count": 20,
   "id": "59ff23bc",
   "metadata": {},
   "outputs": [],
   "source": [
    "# Import Libraries\n",
    "import random \n",
    "import pandas as pd"
   ]
  },
  {
   "cell_type": "code",
   "execution_count": 21,
   "id": "9bfb7424",
   "metadata": {},
   "outputs": [],
   "source": [
    "# -------------------------------\n",
    "# Generate Graph (Directed) Inputs | 3 Cases \n",
    "# Case 1: One Path\n",
    "# Case 2: Random\n",
    "# Case 3: Complete\n",
    "# -------------------------------\n",
    "\n",
    "class Graph():\n",
    "    # Constructor \n",
    "    def __init__(self, vertices):\n",
    "        self.V = vertices    # Number Of Vertices\n",
    "        self.adjMatrix1 = [] # Case 1\n",
    "        self.adjMatrix2 = [] # Case 2\n",
    "        self.adjMatrix3 = [] # Case 3\n",
    "    \n",
    "    # Generate The Graphs | Adjacency Matrix Representation\n",
    "    def generateGraph(self):\n",
    "        # One Path | Case 1\n",
    "        # 1->2->3...->n->1\n",
    "        self.adjMatrix1 = [[0 for i in range(self.V)] for j in range(self.V)]\n",
    "        for i in range(self.V):\n",
    "            self.adjMatrix1[i][(i+1)%self.V] = random.randint(1, self.V)\n",
    "        \n",
    "        # Random | Case 2\n",
    "        self.adjMatrix2 = [[random.randint(0, self.V) for i in range(self.V)] for j in range(self.V)]\n",
    "        \n",
    "        # Complete | Case 3\n",
    "        # Complete Graph So Every Node Is Connected To Every Other Node\n",
    "        self.adjMatrix3 = [[random.randint(1, self.V) for i in range(self.V)] for j in range(self.V)]\n",
    "    \n",
    "    # Print Matrix (Check)\n",
    "    def getMatrix(self):\n",
    "        print(\"Adjacency Matrix Case 1\")\n",
    "        print(self.adjMatrix1)\n",
    "        print(\"Adjacency Matrix Case 2\")\n",
    "        print(self.adjMatrix2)\n",
    "        print(\"Adjacency Matrix Case 3\")\n",
    "        print(self.adjMatrix3)"
   ]
  },
  {
   "cell_type": "code",
   "execution_count": 22,
   "id": "18700754",
   "metadata": {},
   "outputs": [],
   "source": [
    "# 10 Vertices\n",
    "g10 = Graph(10)\n",
    "g10.generateGraph()\n",
    "# 100 Vertices\n",
    "g100 = Graph(100)\n",
    "g100.generateGraph()\n",
    "# 1000 Vertices\n",
    "g1000 = Graph(1000)\n",
    "g1000.generateGraph()"
   ]
  },
  {
   "cell_type": "code",
   "execution_count": 23,
   "id": "faafccfa",
   "metadata": {},
   "outputs": [],
   "source": [
    "# Convert 2D Arrays To DataFrame\n",
    "bestCase10 =  pd.DataFrame(g10.adjMatrix1)\n",
    "avgCase10 = pd.DataFrame(g10.adjMatrix2)\n",
    "worstCase10 = pd.DataFrame(g10.adjMatrix3)\n",
    "\n",
    "bestCase100 =  pd.DataFrame(g100.adjMatrix1)\n",
    "avgCase100 = pd.DataFrame(g100.adjMatrix2)\n",
    "worstCase100 = pd.DataFrame(g100.adjMatrix3)\n",
    "\n",
    "bestCase1000 =  pd.DataFrame(g1000.adjMatrix1)\n",
    "avgCase1000 = pd.DataFrame(g1000.adjMatrix2)\n",
    "worstCase1000 = pd.DataFrame(g1000.adjMatrix3)\n",
    "\n",
    "# Convert DataFrames To CSV Files\n",
    "bestCase10.to_csv(\"bestCase10.csv\")\n",
    "avgCase10.to_csv(\"avgCase10.csv\")\n",
    "worstCase10.to_csv(\"worstCase10.csv\")\n",
    "\n",
    "bestCase100.to_csv(\"bestCase100.csv\")\n",
    "avgCase100.to_csv(\"avgCase100.csv\")\n",
    "worstCase100.to_csv(\"worstCase100.csv\")\n",
    "\n",
    "bestCase1000.to_csv(\"bestCase1000.csv\")\n",
    "avgCase1000.to_csv(\"avgCase1000.csv\")\n",
    "worstCase1000.to_csv(\"worstCase1000.csv\")"
   ]
  },
  {
   "cell_type": "code",
   "execution_count": null,
   "id": "58fe71ef",
   "metadata": {},
   "outputs": [],
   "source": []
  }
 ],
 "metadata": {
  "kernelspec": {
   "display_name": "Python 3 (ipykernel)",
   "language": "python",
   "name": "python3"
  },
  "language_info": {
   "codemirror_mode": {
    "name": "ipython",
    "version": 3
   },
   "file_extension": ".py",
   "mimetype": "text/x-python",
   "name": "python",
   "nbconvert_exporter": "python",
   "pygments_lexer": "ipython3",
   "version": "3.9.7"
  }
 },
 "nbformat": 4,
 "nbformat_minor": 5
}
